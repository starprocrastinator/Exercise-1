{
 "cells": [
  {
   "cell_type": "code",
   "execution_count": 1,
   "id": "661ce938-9537-4e8d-9b87-25e0bb4ec2ca",
   "metadata": {
    "tags": []
   },
   "outputs": [],
   "source": [
    "ice_cream_rating = 6\n",
    "sleeping_rating = 7"
   ]
  },
  {
   "cell_type": "code",
   "execution_count": 28,
   "id": "8753af4c-6074-4173-923f-11f86f2c6818",
   "metadata": {
    "tags": []
   },
   "outputs": [],
   "source": [
    "first_name = \"Yra\"\n",
    "last_name = \"Ditaro\"\n",
    "my_name = first_name + \" \" + last_name"
   ]
  },
  {
   "cell_type": "code",
   "execution_count": 3,
   "id": "811efb6e-e250-4b24-bca9-8e71c9c7b86d",
   "metadata": {
    "tags": []
   },
   "outputs": [],
   "source": [
    "import math"
   ]
  },
  {
   "cell_type": "code",
   "execution_count": 6,
   "id": "e3fb94c1-882b-4aa9-8f80-8982129da950",
   "metadata": {
    "tags": []
   },
   "outputs": [],
   "source": [
    "happiness_rating = (ice_cream_rating + sleeping_rating) / 2"
   ]
  },
  {
   "cell_type": "code",
   "execution_count": 17,
   "id": "927b8caf-cd4d-4bd9-8abc-d0ea41e66336",
   "metadata": {
    "tags": []
   },
   "outputs": [
    {
     "data": {
      "text/plain": [
       "(int, str, float)"
      ]
     },
     "execution_count": 17,
     "metadata": {},
     "output_type": "execute_result"
    }
   ],
   "source": [
    "type(ice_cream_rating), type(first_name), type(happiness_rating)"
   ]
  },
  {
   "cell_type": "code",
   "execution_count": 20,
   "id": "8aea9164-65ba-424c-bc7c-1e00ecf4dc6c",
   "metadata": {
    "tags": []
   },
   "outputs": [
    {
     "data": {
      "text/plain": [
       "'Yes, the data types shown makes sense.'"
      ]
     },
     "execution_count": 20,
     "metadata": {},
     "output_type": "execute_result"
    }
   ],
   "source": [
    "\"Yes, the data types shown makes sense.\" "
   ]
  },
  {
   "cell_type": "code",
   "execution_count": 34,
   "id": "6b879a2b-5848-4c82-a00f-be1f21e2dfd3",
   "metadata": {
    "tags": []
   },
   "outputs": [
    {
     "name": "stdout",
     "output_type": "stream",
     "text": [
      "My name is Yra and I give eating ice cream a score of 6 out of 10!\n",
      "I am Yra Ditaro and my sleeping enjoyment rating is 7 / 10!\n",
      "Based on the factors above, my happiness rating is 6.5 out of 10!\n"
     ]
    }
   ],
   "source": [
    "print(\"My name is\", first_name, \"and I give eating ice cream a score of\", ice_cream_rating, \"out of 10!\"\n",
    "\"\\nI am\", my_name, \"and my sleeping enjoyment rating is\", sleeping_rating,\"/ 10!\"\n",
    "\"\\nBased on the factors above, my happiness rating is\", happiness_rating, \"out of 10!\")"
   ]
  },
  {
   "cell_type": "code",
   "execution_count": null,
   "id": "970ce50c-4b24-4cb7-8bd4-ff0775507253",
   "metadata": {},
   "outputs": [],
   "source": []
  }
 ],
 "metadata": {
  "kernelspec": {
   "display_name": "Python 3 (ipykernel)",
   "language": "python",
   "name": "python3"
  },
  "language_info": {
   "codemirror_mode": {
    "name": "ipython",
    "version": 3
   },
   "file_extension": ".py",
   "mimetype": "text/x-python",
   "name": "python",
   "nbconvert_exporter": "python",
   "pygments_lexer": "ipython3",
   "version": "3.10.11"
  }
 },
 "nbformat": 4,
 "nbformat_minor": 5
}
